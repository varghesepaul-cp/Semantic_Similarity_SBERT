{
 "cells": [
  {
   "cell_type": "markdown",
   "metadata": {},
   "source": [
    "- This Module is For Identifying Semantic Similarity between Sentences\n",
    "- We Used Sentence Transformers ( Sentence-BERT ) as Pre-trained Model for Embeddings\n",
    "- We USed Cosine Similarity for Calculating the Similarity Score\n"
   ]
  },
  {
   "cell_type": "markdown",
   "metadata": {},
   "source": [
    "- Use Linux/Ubuntu > --> Sentence Transformers works best with Linux/Ubuntu\n",
    "- < Upgrade pip3 to latest version >\n",
    "- pip3 install sentence_transformers\n",
    "- pip3 install sklearn"
   ]
  },
  {
   "cell_type": "code",
   "execution_count": 30,
   "metadata": {},
   "outputs": [],
   "source": [
    "from sklearn.metrics.pairwise import cosine_similarity \n"
   ]
  },
  {
   "cell_type": "markdown",
   "metadata": {},
   "source": [
    "- Importing Sentence Transformers\n",
    "- Download Pre-Trained BERT Model "
   ]
  },
  {
   "cell_type": "code",
   "execution_count": 31,
   "metadata": {},
   "outputs": [],
   "source": [
    "from sentence_transformers import SentenceTransformer\n",
    "model = SentenceTransformer('all-MiniLM-L6-v2')"
   ]
  },
  {
   "cell_type": "markdown",
   "metadata": {},
   "source": [
    "- Using Pre-Trained BERT Transformer to Generate Sentence Embedding \n",
    "- Using Cosine Similarity Function to find semantic similarity between given sentences"
   ]
  },
  {
   "cell_type": "code",
   "execution_count": 32,
   "metadata": {},
   "outputs": [
    {
     "name": "stdout",
     "output_type": "stream",
     "text": [
      "Utterance is  What Sound does a lion make?\n",
      "Utterance_To_Compare is  How does a lion roar ?\n",
      "Semantic Similarity Score is [83.26105]\n"
     ]
    }
   ],
   "source": [
    "def single_Utternce_Processor(Utterance , Utterance_To_Compare):\n",
    "     \n",
    "     print(\"Utterance is \" , Utterance)\n",
    "     print(\"Utterance_To_Compare is \", Utterance_To_Compare )\n",
    "     \n",
    "     sentl = Utterance.replace(\"\\n\",\"\") \n",
    "     sent2 = Utterance_To_Compare.replace(\"\\n\",\"\") \n",
    "     \n",
    "     sentence1_embed = model. encode(str(sentl)) \n",
    "     sentence2_embed = model.encode(str(sent2)) \n",
    "     \n",
    "     cos_sim = cosine_similarity([sentence1_embed],[sentence2_embed])\n",
    "     print(\"Semantic Similarity Score is\" , cos_sim[0]*100) \n",
    "\n",
    "single_Utternce_Processor(\"What Sound does a lion make?\" , \"How does a lion roar ?\")"
   ]
  },
  {
   "cell_type": "markdown",
   "metadata": {},
   "source": [
    "- For Batch Processing of Utterances \n",
    "- Input File of Utterances\n"
   ]
  },
  {
   "cell_type": "code",
   "execution_count": 33,
   "metadata": {},
   "outputs": [
    {
     "name": "stdout",
     "output_type": "stream",
     "text": [
      "whats the weather today?\n",
      "\n",
      "how are you doing \n",
      "\n"
     ]
    }
   ],
   "source": [
    "f = open(\"input_utt_list.txt\",\"r\")\n",
    "for sentence in f:\n",
    "    print(sentence)\n"
   ]
  },
  {
   "cell_type": "markdown",
   "metadata": {},
   "source": [
    "- Input File 2 of Sentences which needs to be compared"
   ]
  },
  {
   "cell_type": "code",
   "execution_count": 34,
   "metadata": {},
   "outputs": [
    {
     "name": "stdout",
     "output_type": "stream",
     "text": [
      "whats the weather today?\n",
      "\n",
      "how are you doing \n",
      "\n",
      "Weather today\n",
      "\n",
      "sunny weather\n",
      "\n",
      "its a hot day\n",
      "\n",
      "whats up?\n",
      "\n",
      "hello there \n",
      "\n"
     ]
    }
   ],
   "source": [
    "f = open(\"db_utt_list.txt\",\"r\")\n",
    "for sentence in f:\n",
    "    print(sentence)"
   ]
  },
  {
   "cell_type": "markdown",
   "metadata": {},
   "source": [
    "- All the Sentences in File1 will be Cross checked against all the Sentences in File2 and generate semantic similarity score of each combination"
   ]
  },
  {
   "cell_type": "code",
   "execution_count": 35,
   "metadata": {},
   "outputs": [
    {
     "name": "stdout",
     "output_type": "stream",
     "text": [
      "DB_UTTS is  ['whats the weather today?\\n', 'how are you doing \\n']\n",
      "INPUT_UTTS is  ['whats the weather today?\\n', 'how are you doing \\n', 'Weather today\\n', 'sunny weather\\n', 'its a hot day\\n', 'whats up?\\n', 'hello there \\n']\n",
      "-----------------------\n",
      "whats the weather today? vs  whats the weather today? is [1.0000001]\n",
      "whats the weather today? vs  whats the weather today? is [1.0000001]\n",
      "-----------------------\n",
      "whats the weather today? vs  how are you doing  is [0.35606092]\n",
      "-----------------------\n",
      "how are you doing  vs  whats the weather today? is [0.35606092]\n",
      "-----------------------\n",
      "how are you doing  vs  how are you doing  is [1.0000001]\n",
      "how are you doing  vs  how are you doing  is [1.0000001]\n",
      "-----------------------\n",
      "Weather today vs  whats the weather today? is [0.8460847]\n",
      "Weather today vs  whats the weather today? is [0.8460847]\n",
      "-----------------------\n",
      "Weather today vs  how are you doing  is [0.28738093]\n",
      "-----------------------\n",
      "sunny weather vs  whats the weather today? is [0.64372265]\n",
      "sunny weather vs  whats the weather today? is [0.64372265]\n",
      "-----------------------\n",
      "sunny weather vs  how are you doing  is [0.25084463]\n",
      "-----------------------\n",
      "its a hot day vs  whats the weather today? is [0.49008235]\n",
      "-----------------------\n",
      "its a hot day vs  how are you doing  is [0.2249595]\n",
      "-----------------------\n",
      "whats up? vs  whats the weather today? is [0.29927054]\n",
      "-----------------------\n",
      "whats up? vs  how are you doing  is [0.38095877]\n",
      "-----------------------\n",
      "hello there  vs  whats the weather today? is [0.246128]\n",
      "-----------------------\n",
      "hello there  vs  how are you doing  is [0.39117533]\n",
      "eligible_utts  ['whats the weather today?\\n', 'how are you doing \\n', 'Weather today\\n', 'sunny weather\\n']\n",
      "unique set {'whats the weather today?\\n', 'how are you doing \\n', 'sunny weather\\n', 'Weather today\\n'}\n"
     ]
    }
   ],
   "source": [
    "def batch_Processor():\n",
    "     \n",
    "     f = open(\"input_utt_list.txt\",\"r\")\n",
    "     f2 = open(\"db_utt_list.txt\",\"r\") \n",
    "     \n",
    "     DB_UTTS = f.readlines() \n",
    "     INPUT_UTTS = f2.readlines() \n",
    "\n",
    "     eligible_utts = [] \n",
    "     print(\"DB_UTTS is \" , DB_UTTS)\n",
    "     print(\"INPUT_UTTS is \" , INPUT_UTTS)\n",
    "\n",
    "     for sentence in INPUT_UTTS:\n",
    "          for sentence2 in DB_UTTS:\n",
    "               sentl = sentence.replace(\"\\n\",\"\") \n",
    "               sent2 = sentence2.replace(\"\\n\",\"\") \n",
    "               sentence1_embed = model. encode(str(sentl)) \n",
    "               sentence2_embed = model.encode(str(sent2)) \n",
    "               cos_sim = cosine_similarity([sentence1_embed],[sentence2_embed])\n",
    "               print(\"-----------------------\")\n",
    "               print(sentl , 'vs ',sent2 , \"is\" , cos_sim[0])\n",
    "               if(cos_sim > 0.5):\n",
    "                    eligible_utts.append(sentence)\n",
    "                    print(sentl , 'vs ',sent2 , 'is' , cos_sim[0]) \n",
    "\n",
    "     print(\"eligible_utts \", eligible_utts) \n",
    "     myset = set(eligible_utts) \n",
    "     print(\"unique set\" , myset) \n",
    "batch_Processor()"
   ]
  }
 ],
 "metadata": {
  "interpreter": {
   "hash": "31f2aee4e71d21fbe5cf8b01ff0e069b9275f58929596ceb00d14d90e3e16cd6"
  },
  "kernelspec": {
   "display_name": "Python 3.6.9 64-bit",
   "language": "python",
   "name": "python3"
  },
  "language_info": {
   "codemirror_mode": {
    "name": "ipython",
    "version": 3
   },
   "file_extension": ".py",
   "mimetype": "text/x-python",
   "name": "python",
   "nbconvert_exporter": "python",
   "pygments_lexer": "ipython3",
   "version": "3.6.9"
  },
  "orig_nbformat": 4
 },
 "nbformat": 4,
 "nbformat_minor": 2
}
